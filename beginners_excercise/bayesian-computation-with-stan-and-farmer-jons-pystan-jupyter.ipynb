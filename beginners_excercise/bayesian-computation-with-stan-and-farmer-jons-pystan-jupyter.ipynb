{
 "cells": [
  {
   "cell_type": "markdown",
   "metadata": {},
   "source": [
    "## Beginners Exercise: Bayesian computation with Stan and Farmer Jöns\n",
    "### Rasmus Bååth\n",
    "#### Original R version here: http://www.sumsar.net/files/posts/2017-01-15-bayesian-computation-with-stan-and-farmer-jons/stan_exercise.html"
   ]
  },
  {
   "cell_type": "markdown",
   "metadata": {},
   "source": [
    "#### Pystan jupyter notebook version by Ara Winter (Python 3.x)"
   ]
  },
  {
   "cell_type": "markdown",
   "metadata": {},
   "source": [
    "Here follows a number of data analytic questions. Use Pystan and python to build models that probe these questions. The Stan documentation can be found here: http://mc-stan.org/documentation/ . "
   ]
  },
  {
   "cell_type": "markdown",
   "metadata": {},
   "source": [
    "## 1. Getting started\n",
    "Below is a code scaffold you can copy-n-paste into a jupyter notebook. Right now the scaffold contains a simple model for two binomial rates, but this should be replaced with a model that matches the relevant questions.\n",
    "\n",
    "#### Read through the code to see if you can figure out what does what and then run it to make sure it works. It should print out some statistics and some pretty graphs."
   ]
  },
  {
   "cell_type": "code",
   "execution_count": 2,
   "metadata": {
    "collapsed": true
   },
   "outputs": [],
   "source": [
    "import pystan\n",
    "import pandas as pd\n",
    "import matplotlib.pyplot as plt\n",
    "import seaborn as sns; sns.set_context('notebook')\n",
    "%matplotlib inline"
   ]
  },
  {
   "cell_type": "code",
   "execution_count": 1,
   "metadata": {
    "collapsed": true
   },
   "outputs": [],
   "source": [
    "# The Stan model as a string.\n",
    "model_string = \"\"\"\n",
    "data {\n",
    "  # Number of data points\n",
    "  int n1;\n",
    "  int n2;\n",
    "  # Number of successes\n",
    "  int y1[n1];\n",
    "  int y2[n2];\n",
    "}\n",
    "\n",
    "parameters {\n",
    "  real<lower=0, upper=1> theta1;\n",
    "  real<lower=0, upper=1> theta2;\n",
    "}\n",
    "\n",
    "model {  \n",
    "  theta1 ~ beta(1, 1);\n",
    "  theta2 ~ beta(1, 1);\n",
    "  y1 ~ bernoulli(theta1);\n",
    "  y2 ~ bernoulli(theta2); \n",
    "}\n",
    "\n",
    "generated quantities {\n",
    "}\n",
    "\"\"\""
   ]
  },
  {
   "cell_type": "code",
   "execution_count": 2,
   "metadata": {
    "collapsed": true
   },
   "outputs": [],
   "source": [
    "# Here we generate the data to model\n",
    "y1 = [0, 1, 0, 0, 0, 0, 1, 0, 0, 0]\n",
    "y2 = [0, 0, 1, 1, 1, 0, 1, 1, 1, 0]\n",
    "N1 = len(y1)\n",
    "N2 = len(y2)"
   ]
  },
  {
   "cell_type": "code",
   "execution_count": 3,
   "metadata": {
    "collapsed": true
   },
   "outputs": [],
   "source": [
    "# Dictionary containing all data to be passed to STAN\n",
    "regress_dat = {'y1': y1,\n",
    " 'y2': y2,\n",
    " 'n1': N1,'n2':N2}"
   ]
  },
  {
   "cell_type": "code",
   "execution_count": 4,
   "metadata": {},
   "outputs": [
    {
     "data": {
      "text/plain": [
       "{'n1': 10,\n",
       " 'n2': 10,\n",
       " 'y1': [0, 1, 0, 0, 0, 0, 1, 0, 0, 0],\n",
       " 'y2': [0, 0, 1, 1, 1, 0, 1, 1, 1, 0]}"
      ]
     },
     "execution_count": 4,
     "metadata": {},
     "output_type": "execute_result"
    }
   ],
   "source": [
    "# Here we check our dictionary. Do the variables match what we called in the stan model?\n",
    "regress_dat"
   ]
  },
  {
   "cell_type": "code",
   "execution_count": 7,
   "metadata": {},
   "outputs": [
    {
     "name": "stderr",
     "output_type": "stream",
     "text": [
      "INFO:pystan:COMPILING THE C++ CODE FOR MODEL anon_model_52e804325538434ed998ef88b873f423 NOW.\n"
     ]
    }
   ],
   "source": [
    "# Compiling and producing posterior samples from the model.\n",
    "fit_bernoulli = pystan.stan(model_code=model_string, data=regress_dat,\n",
    "                  iter=1000, chains=4)"
   ]
  },
  {
   "cell_type": "code",
   "execution_count": 8,
   "metadata": {},
   "outputs": [
    {
     "data": {
      "text/plain": [
       "Inference for Stan model: anon_model_52e804325538434ed998ef88b873f423.\n",
       "4 chains, each with iter=1000; warmup=500; thin=1; \n",
       "post-warmup draws per chain=500, total post-warmup draws=2000.\n",
       "\n",
       "         mean se_mean     sd   2.5%    25%    50%    75%  97.5%  n_eff   Rhat\n",
       "theta1   0.25  3.1e-3   0.12   0.06   0.16   0.24   0.32    0.5   1389    1.0\n",
       "theta2   0.58  3.1e-3   0.14   0.31   0.48   0.58   0.68   0.84   2000    1.0\n",
       "lp__   -15.93    0.04   1.09 -18.89 -16.31 -15.57  -15.2 -14.93    849    1.0\n",
       "\n",
       "Samples were drawn using NUTS at Mon Jun 12 11:44:10 2017.\n",
       "For each parameter, n_eff is a crude measure of effective sample size,\n",
       "and Rhat is the potential scale reduction factor on split chains (at \n",
       "convergence, Rhat=1)."
      ]
     },
     "execution_count": 8,
     "metadata": {},
     "output_type": "execute_result"
    }
   ],
   "source": [
    "# Summarizing the posterior distribution\n",
    "fit_bernoulli"
   ]
  },
  {
   "cell_type": "code",
   "execution_count": 9,
   "metadata": {},
   "outputs": [
    {
     "data": {
      "image/png": "[encoded data removed]",
      "text/plain": [
       "<matplotlib.figure.Figure at 0x11260e518>"
      ]
     },
     "execution_count": 9,
     "metadata": {},
     "output_type": "execute_result"
    },
    {
     "data": {
      "image/png": "[encoded data removed]",
      "text/plain": [
       "<matplotlib.figure.Figure at 0x11260e518>"
      ]
     },
     "metadata": {},
     "output_type": "display_data"
    }
   ],
   "source": [
    "# Plotting the posterior distribution\n",
    "fit_bernoulli.plot()"
   ]
  },
  {
   "cell_type": "markdown",
   "metadata": {},
   "source": [
    "<B>Hint 1:</B> bernoulli is the Bernoulli distribution which is the special case of the binomial distribution when there is just one trial (bernoulli(x) === binomial(1, x)). That is, if the data is coded as 4 successes out of 6 (x = 4; n = 6) it would be most convenient to use a binomial distribution. If the data is coded like c(1, 1, 1, 1, 0, 0) it would be more convenient to use a Bernoulli distribution. The result would in any case be the same.\n",
    "\n",
    "<B>Hint 2:</B> Stan has quite a lot of different built in data types and two that sounds the same, but aren't, are vectors and arrays. Vectors are simple, they are lists of real numbers and vector[4] v; would define a vector or length 4. Arrays are more general in that they can contain other data types, for example int a[4] would define an array of integers of length 4. Note the different placement of the []-brackets compared to defining a vector.\n",
    "\n",
    "<B>Hint 3:</B> When defining parameters it’s important to properly define the support, that is, for what values the parameter has a defined meaning. For example, the support of a mean is on the whole real line (-Inf to Inf) so that can simply be declared by real mu;. A standard deviation, on the other hand, can’t be below 0.0, which could be written like this: real<lower=0> sigma. Finaly, a rate has to be between 0 and 1 which would be written like real<lower=0, upper=1> theta;"
   ]
  },
  {
   "cell_type": "markdown",
   "metadata": {},
   "source": [
    "## 2. Manipulating samples\n",
    "To inspect and manipulate samples from individual parameters it is useful to convert the Stan “object” into a simple data.frame which gets one column per parameter:"
   ]
  },
  {
   "cell_type": "code",
   "execution_count": 15,
   "metadata": {},
   "outputs": [
    {
     "data": {
      "image/png": "[encoded data removed]",
      "text/plain": [
       "<matplotlib.figure.Figure at 0x11706bf28>"
      ]
     },
     "metadata": {},
     "output_type": "display_data"
    }
   ],
   "source": [
    "# Show a traceplot for single parameter\n",
    "fit_bernoulli.plot(['theta1'])\n",
    "plt.show()"
   ]
  },
  {
   "cell_type": "code",
   "execution_count": 23,
   "metadata": {
    "collapsed": true
   },
   "outputs": [],
   "source": [
    "# Wrangles the data from fit_bernoulli\n",
    "samples = fit_bernoulli.extract(permuted=True)\n",
    "params = pd.DataFrame({'theta1': samples['theta1'], 'theta2': samples['theta2'], 'lp__': samples['lp__']})"
   ]
  },
  {
   "cell_type": "code",
   "execution_count": 24,
   "metadata": {},
   "outputs": [
    {
     "data": {
      "text/html": [
       "<div>\n",
       "<style>\n",
       "    .dataframe thead tr:only-child th {\n",
       "        text-align: right;\n",
       "    }\n",
       "\n",
       "    .dataframe thead th {\n",
       "        text-align: left;\n",
       "    }\n",
       "\n",
       "    .dataframe tbody tr th {\n",
       "        vertical-align: top;\n",
       "    }\n",
       "</style>\n",
       "<table border=\"1\" class=\"dataframe\">\n",
       "  <thead>\n",
       "    <tr style=\"text-align: right;\">\n",
       "      <th></th>\n",
       "      <th>lp__</th>\n",
       "      <th>theta1</th>\n",
       "      <th>theta2</th>\n",
       "    </tr>\n",
       "  </thead>\n",
       "  <tbody>\n",
       "    <tr>\n",
       "      <th>0</th>\n",
       "      <td>-18.189114</td>\n",
       "      <td>0.250958</td>\n",
       "      <td>0.878352</td>\n",
       "    </tr>\n",
       "    <tr>\n",
       "      <th>1</th>\n",
       "      <td>-15.272125</td>\n",
       "      <td>0.230065</td>\n",
       "      <td>0.699143</td>\n",
       "    </tr>\n",
       "    <tr>\n",
       "      <th>2</th>\n",
       "      <td>-17.556896</td>\n",
       "      <td>0.065017</td>\n",
       "      <td>0.730324</td>\n",
       "    </tr>\n",
       "    <tr>\n",
       "      <th>3</th>\n",
       "      <td>-15.280931</td>\n",
       "      <td>0.245205</td>\n",
       "      <td>0.702309</td>\n",
       "    </tr>\n",
       "  </tbody>\n",
       "</table>\n",
       "</div>"
      ],
      "text/plain": [
       "        lp__    theta1    theta2\n",
       "0 -18.189114  0.250958  0.878352\n",
       "1 -15.272125  0.230065  0.699143\n",
       "2 -17.556896  0.065017  0.730324\n",
       "3 -15.280931  0.245205  0.702309"
      ]
     },
     "execution_count": 24,
     "metadata": {},
     "output_type": "execute_result"
    }
   ],
   "source": [
    "# Inspect our data frame\n",
    "params.head(4)"
   ]
  },
  {
   "cell_type": "code",
   "execution_count": 27,
   "metadata": {},
   "outputs": [
    {
     "data": {
      "image/png": "[encoded data removed]",
      "text/plain": [
       "<matplotlib.figure.Figure at 0x11761e358>"
      ]
     },
     "metadata": {},
     "output_type": "display_data"
    }
   ],
   "source": [
    "# Plotting distribution of the difference between theta1 and theta2\n",
    "sns.distplot((params.theta2 - params.theta1), kde=False, rug=True);"
   ]
  },
  {
   "cell_type": "code",
   "execution_count": 34,
   "metadata": {},
   "outputs": [
    {
     "data": {
      "text/plain": [
       "0.96499999999999997"
      ]
     },
     "execution_count": 34,
     "metadata": {},
     "output_type": "execute_result"
    }
   ],
   "source": [
    "# The probability that the rate theta1 is smaller than theta2\n",
    "l = params.theta1 < params.theta2\n",
    "sum(l)/len(l)"
   ]
  },
  {
   "cell_type": "markdown",
   "metadata": {},
   "source": [
    "#### Calculate the probability that the difference between the two underlying rates is smaller than 0.2.\n",
    "Hint: abs(x - y) calculates the absolute difference between x and y."
   ]
  },
  {
   "cell_type": "markdown",
   "metadata": {},
   "source": [
    "## 3. Cows and disease\n",
    "Farmer Jöns has a huge number of cows. Earlier this year he ran an experiment where he gave 10 cows medicine A and 10 medicine B and then measured whether they got sick (0) or not (1) during the summer season. Here is the resulting data:"
   ]
  },
  {
   "cell_type": "code",
   "execution_count": 36,
   "metadata": {
    "collapsed": true
   },
   "outputs": [],
   "source": [
    "cowA = [0, 1, 0, 0, 0, 0, 1, 0, 0, 0]\n",
    "cowB = [0, 0, 1, 1, 1, 0, 1, 1, 1, 0]"
   ]
  },
  {
   "cell_type": "markdown",
   "metadata": {},
   "source": [
    "#### Jöns now wants to know: How effective are the drugs? What is the evidence that medicine A is better or worse than medicine B?"
   ]
  },
  {
   "cell_type": "markdown",
   "metadata": {},
   "source": [
    "## 4. Cows and milk\n",
    "Farmer Jöns has a huge number of cows. Earlier this year he ran an experiment where he gave 10 cows a special diet that he had heard could make them produce more milk. He recorded the number of liters of milk from these “diet” cows and from 15 “normal” cows during one month. This is the data:"
   ]
  },
  {
   "cell_type": "code",
   "execution_count": 37,
   "metadata": {
    "collapsed": true
   },
   "outputs": [],
   "source": [
    "diet_milk = [651, 679, 374, 601, 401, 609, 767, 709, 704, 679]\n",
    "normal_milk = [798, 1139, 529, 609, 553, 743, 151, 544, 488, 555, 257, 692, 678, 675, 538]"
   ]
  },
  {
   "cell_type": "markdown",
   "metadata": {},
   "source": [
    "#### Jöns now wants to know: Was the diet any good, does it results in better milk production?"
   ]
  },
  {
   "cell_type": "markdown",
   "metadata": {},
   "source": [
    "<B>Hint 1:</B> To model this you might find it useful to use the Normal distribution which is called normal in Stan. A statement using normal could look like:"
   ]
  },
  {
   "cell_type": "code",
   "execution_count": null,
   "metadata": {
    "collapsed": true
   },
   "outputs": [],
   "source": [
    "for(i in 1:n ) {\n",
    "  y[i] ~ normal(mu, sigma);\n",
    "}"
   ]
  },
  {
   "cell_type": "markdown",
   "metadata": {},
   "source": [
    "Where mu is the mean and sigma is the standard deviation and y is a vector of length n. Since Stan is partly vectorized the above could also be written without the loop like y ~ normal(mu, sigma);.\n",
    "\n",
    "<B>Hint 2:</B> You will have to put priors on mu and sigma and here there are many options. A lazy but often OK shortcut is to just use uniform distributions that are wide enough to include all thinkable values of the parameters. If you want to be extra sloppy you can actually skip putting any priors at all in which case Stan will use uniform(-Infinity, Infinity), but it’s good style to use explicit priors."
   ]
  },
  {
   "cell_type": "markdown",
   "metadata": {},
   "source": [
    "## If you have made it this far, great! Below are a couple of bonus questions. How far can you reach?"
   ]
  },
  {
   "cell_type": "markdown",
   "metadata": {},
   "source": [
    "## 5. Cows and Mutant Cows\n",
    "Farmer Jöns has a huge number of cows. Due to a recent radioactive leak in a nearby power plant he fears that some of them have become mutant cows. Jöns is interested in measuring the effectiveness of a diet on normal cows, but not on mutant cows (that might produce excessive amounts of milk, or nearly no milk at all!). The following data set contains the amount of milk for cows on a diet and cows on normal diet:"
   ]
  },
  {
   "cell_type": "code",
   "execution_count": 40,
   "metadata": {
    "collapsed": true
   },
   "outputs": [],
   "source": [
    "diet_milk = [651, 679, 374, 601, 4000, 401, 609, 767, 3890, 704, 679]\n",
    "normal_milk = [798, 1139, 529, 609, 553, 743, 3,151, 544, 488, 15, 257, 692, 678, 675, 538]"
   ]
  },
  {
   "cell_type": "markdown",
   "metadata": {},
   "source": [
    "Some of the data points might come from mutant cows (aka outliers).\n",
    "\n",
    "#### Jöns now wants to know: Was the diet any good, does it results in better milk production for non-mutant cows?\n",
    "\n",
    "<B>Hint:</B> Basically we have an outlier problem."
   ]
  },
  {
   "cell_type": "code",
   "execution_count": 41,
   "metadata": {},
   "outputs": [
    {
     "data": {
      "text/plain": [
       "([array([ 2.,  7.,  0.,  0.,  0.,  0.,  0.,  0.,  0.,  2.]),\n",
       "  array([  4.,  11.,   1.,   0.,   0.,   0.,   0.,   0.,   0.,   0.])],\n",
       " array([  3.00000000e+00,   4.02700000e+02,   8.02400000e+02,\n",
       "          1.20210000e+03,   1.60180000e+03,   2.00150000e+03,\n",
       "          2.40120000e+03,   2.80090000e+03,   3.20060000e+03,\n",
       "          3.60030000e+03,   4.00000000e+03]),\n",
       " <a list of 2 Lists of Patches objects>)"
      ]
     },
     "execution_count": 41,
     "metadata": {},
     "output_type": "execute_result"
    },
    {
     "data": {
      "image/png": "[encoded data removed]",
      "text/plain": [
       "<matplotlib.figure.Figure at 0x1196cf3c8>"
      ]
     },
     "metadata": {},
     "output_type": "display_data"
    }
   ],
   "source": [
    "plt.hist([diet_milk, normal_milk], color=['r','b'], alpha=0.5)"
   ]
  },
  {
   "cell_type": "markdown",
   "metadata": {},
   "source": [
    "A conventional trick in this situation is to supplement the normal distribution for a distribution with wider tails that is more sensitive to the central values and disregards the far away values (this is a little bit like trimming away some amount of the data on the left and on the right). A good choice for such a distribution is the t-distribution which is like the normal but with a third parameter called the “degrees of freedom”. The lower the “degrees of freedom” the wider the tails and when this parameter is larger than about 50 the t-distribution is practically the same as the normal. A good choice for the problem with the mutant cows would be to use a t distribution with around 3 degrees of freedom."
   ]
  },
  {
   "cell_type": "code",
   "execution_count": 45,
   "metadata": {},
   "outputs": [
    {
     "data": {
      "text/plain": [
       "'\\ny ~ student_t(3, mu, sigma);\\n'"
      ]
     },
     "execution_count": 45,
     "metadata": {},
     "output_type": "execute_result"
    }
   ],
   "source": [
    "\"\"\"\n",
    "y ~ student_t(3, mu, sigma);\n",
    "\"\"\""
   ]
  },
  {
   "cell_type": "markdown",
   "metadata": {},
   "source": [
    "Of course, you could also estimate the “degrees of freedom” as a free parameter, but that might be overkill in this case…"
   ]
  },
  {
   "cell_type": "markdown",
   "metadata": {},
   "source": [
    "## 6. Chickens and diet\n",
    "Farmer Jöns has a huge number of cows. He also has chickens. He tries different diets on them too with the hope that they will produce more eggs. Below is the number of eggs produced in one week by chickens on a diet and chickens eating normal chicken stuff:"
   ]
  },
  {
   "cell_type": "code",
   "execution_count": 44,
   "metadata": {
    "collapsed": true
   },
   "outputs": [],
   "source": [
    "diet_eggs = [6, 4, 2, 3, 4, 3, 0, 4, 0, 6, 3]\n",
    "normal_eggs = [4, 2, 1, 1, 2, 1, 2, 1, 3, 2, 1]"
   ]
  },
  {
   "cell_type": "markdown",
   "metadata": {},
   "source": [
    "<B>Hint:</B> The Poisson distribution is a discrete distribution that is often a reasonable choice when one wants to model count data (like, for example, counts of eggs). The Poisson has one parameter λλ which stands for the mean count. In Stan you would use the Poisson like this:"
   ]
  },
  {
   "cell_type": "code",
   "execution_count": 46,
   "metadata": {},
   "outputs": [
    {
     "data": {
      "text/plain": [
       "'\\ny ~ poisson(lambda);\\n'"
      ]
     },
     "execution_count": 46,
     "metadata": {},
     "output_type": "execute_result"
    }
   ],
   "source": [
    "\"\"\"\n",
    "y ~ poisson(lambda);\n",
    "\"\"\""
   ]
  },
  {
   "cell_type": "markdown",
   "metadata": {},
   "source": [
    "where y would be a single integer or an integer array of length n ( defined like int y[n];) and lambda a real number bounded at 0.0 (real<lower=0> lambda;)"
   ]
  },
  {
   "cell_type": "code",
   "execution_count": 4,
   "metadata": {
    "collapsed": true
   },
   "outputs": [],
   "source": [
    "milk = [651, 679, 374, 601, 401, 609, 767, 709, 704, 679, 798, 1139,\n",
    "           529, 609, 553, 743, 151, 544, 488, 555, 257, 692, 678, 675, 538]\n",
    "group = [1, 1, 1, 1, 1, 1, 1, 1, 1, 1, 2, 2, \n",
    "            2, 2, 2, 2, 2, 2, 2, 2, 2, 2, 2, 2, 2]"
   ]
  },
  {
   "cell_type": "markdown",
   "metadata": {},
   "source": [
    "It’s often common to have all data in a data frame table. Copy-n-paste the following into a juypter notebook and inspect the resulting data frame cow_data_frame. "
   ]
  },
  {
   "cell_type": "code",
   "execution_count": 5,
   "metadata": {},
   "outputs": [],
   "source": [
    "cow_data_frame = pd.DataFrame(\n",
    "    {'milk': milk,\n",
    "     'group': group\n",
    "    })"
   ]
  },
  {
   "cell_type": "code",
   "execution_count": 6,
   "metadata": {},
   "outputs": [
    {
     "data": {
      "text/html": [
       "<div>\n",
       "<style>\n",
       "    .dataframe thead tr:only-child th {\n",
       "        text-align: right;\n",
       "    }\n",
       "\n",
       "    .dataframe thead th {\n",
       "        text-align: left;\n",
       "    }\n",
       "\n",
       "    .dataframe tbody tr th {\n",
       "        vertical-align: top;\n",
       "    }\n",
       "</style>\n",
       "<table border=\"1\" class=\"dataframe\">\n",
       "  <thead>\n",
       "    <tr style=\"text-align: right;\">\n",
       "      <th></th>\n",
       "      <th>group</th>\n",
       "      <th>milk</th>\n",
       "    </tr>\n",
       "  </thead>\n",
       "  <tbody>\n",
       "    <tr>\n",
       "      <th>0</th>\n",
       "      <td>1</td>\n",
       "      <td>651</td>\n",
       "    </tr>\n",
       "    <tr>\n",
       "      <th>1</th>\n",
       "      <td>1</td>\n",
       "      <td>679</td>\n",
       "    </tr>\n",
       "    <tr>\n",
       "      <th>2</th>\n",
       "      <td>1</td>\n",
       "      <td>374</td>\n",
       "    </tr>\n",
       "    <tr>\n",
       "      <th>3</th>\n",
       "      <td>1</td>\n",
       "      <td>601</td>\n",
       "    </tr>\n",
       "  </tbody>\n",
       "</table>\n",
       "</div>"
      ],
      "text/plain": [
       "   group  milk\n",
       "0      1   651\n",
       "1      1   679\n",
       "2      1   374\n",
       "3      1   601"
      ]
     },
     "execution_count": 6,
     "metadata": {},
     "output_type": "execute_result"
    }
   ],
   "source": [
    "cow_data_frame.head(4)"
   ]
  },
  {
   "cell_type": "code",
   "execution_count": 8,
   "metadata": {},
   "outputs": [],
   "source": [
    "# This can acutally be done just from the lists milk and group. However the point is to use the pandas dataframe.\n",
    "n = len(cow_data_frame.index)\n",
    "n_groups = max(cow_data_frame.group)"
   ]
  },
  {
   "cell_type": "code",
   "execution_count": 15,
   "metadata": {},
   "outputs": [],
   "source": [
    "# Dictionary containing all data to be passed to STAN\n",
    "cow_dat = {'x': cow_data_frame.milk,\n",
    " 'y': cow_data_frame.group,\n",
    " 'n': n,'n_groups':n_groups}"
   ]
  },
  {
   "cell_type": "code",
   "execution_count": null,
   "metadata": {},
   "outputs": [],
   "source": []
  },
  {
   "cell_type": "markdown",
   "metadata": {},
   "source": [
    "#### Modify the model from (4) to work with this data format instead.\n",
    "\n",
    "<B>Hint:</B> In your Stan code you can loop over the group variable and use it to pick out the parameters belonging to that group like this:"
   ]
  },
  {
   "cell_type": "code",
   "execution_count": 11,
   "metadata": {},
   "outputs": [
    {
     "data": {
      "text/plain": [
       "'\\nfor(i in 1:n) {\\n  y[i] ~ normal( mu[x[i]], sigma[x[i]] ) \\n}\\n'"
      ]
     },
     "execution_count": 11,
     "metadata": {},
     "output_type": "execute_result"
    }
   ],
   "source": [
    "\"\"\"\n",
    "for(i in 1:n) {\n",
    "  y[i] ~ normal( mu[x[i]], sigma[x[i]] ) \n",
    "}\n",
    "\"\"\""
   ]
  },
  {
   "cell_type": "markdown",
   "metadata": {},
   "source": [
    "Where mu and sigma now are 2-length vectors. This is also known as indexception: You use an index (i) to pick out an index (x[i]) to pick out a value (mu[x[i]]). As indexing is vectorised in Stan this can actually be shortened to just:"
   ]
  },
  {
   "cell_type": "code",
   "execution_count": 12,
   "metadata": {},
   "outputs": [
    {
     "data": {
      "text/plain": [
       "'\\ny ~ normal( mu[x], sigma[x] );\\n'"
      ]
     },
     "execution_count": 12,
     "metadata": {},
     "output_type": "execute_result"
    }
   ],
   "source": [
    "\"\"\"\n",
    "y ~ normal( mu[x], sigma[x] );\n",
    "\"\"\""
   ]
  },
  {
   "cell_type": "code",
   "execution_count": null,
   "metadata": {
    "collapsed": true
   },
   "outputs": [],
   "source": []
  }
 ],
 "metadata": {
  "kernelspec": {
   "display_name": "Python 3",
   "language": "python",
   "name": "python3"
  },
  "language_info": {
   "codemirror_mode": {
    "name": "ipython",
    "version": 3
   },
   "file_extension": ".py",
   "mimetype": "text/x-python",
   "name": "python",
   "nbconvert_exporter": "python",
   "pygments_lexer": "ipython3",
   "version": "3.6.1"
  }
 },
 "nbformat": 4,
 "nbformat_minor": 2
}
